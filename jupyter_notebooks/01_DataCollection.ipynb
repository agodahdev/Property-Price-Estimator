{
 "cells": [
  {
   "cell_type": "markdown",
   "id": "70082b88",
   "metadata": {},
   "source": [
    "## Data Colletion Notebook\n",
    "\n",
    "**Objectives:**\n",
    "* Load UK housing dataset from Kaggle\n",
    "* Examine data structure and quality\n",
    "* Save clean data for analysis\n",
    "\n",
    "**Inputs**:\n",
    "*uk_housing_data.csv from inputs/datasets/raw\n",
    "\n",
    "**Outputs:**\n",
    "* Clean dataset in inputs/dataset/collection/\n",
    "* Data summary report"
   ]
  },
  {
   "cell_type": "code",
   "execution_count": 1,
   "id": "5dade847",
   "metadata": {},
   "outputs": [],
   "source": [
    "import pandas as pd\n",
    "import numpy as np"
   ]
  },
  {
   "cell_type": "code",
   "execution_count": 2,
   "id": "cec9f071",
   "metadata": {},
   "outputs": [
    {
     "name": "stdout",
     "output_type": "stream",
     "text": [
      "Dataset loaded: 22489348 rows, 11 columns\n"
     ]
    }
   ],
   "source": [
    "df = pd.read_csv(\"../inputs/datasets/raw/uk_housing_data.csv\")\n",
    "print(f\"Dataset loaded: {df.shape[0]} rows, {df.shape[1]} columns\")"
   ]
  },
  {
   "cell_type": "code",
   "execution_count": 3,
   "id": "ef385ba3",
   "metadata": {},
   "outputs": [
    {
     "name": "stdout",
     "output_type": "stream",
     "text": [
      "Column names:\n",
      "['Transaction unique identifier', 'Price', 'Date of Transfer', 'Property Type', 'Old/New', 'Duration', 'Town/City', 'District', 'County', 'PPDCategory Type', 'Record Status - monthly file only']\n",
      "\n",
      "First 5 rows\n"
     ]
    },
    {
     "data": {
      "text/html": [
       "<div>\n",
       "<style scoped>\n",
       "    .dataframe tbody tr th:only-of-type {\n",
       "        vertical-align: middle;\n",
       "    }\n",
       "\n",
       "    .dataframe tbody tr th {\n",
       "        vertical-align: top;\n",
       "    }\n",
       "\n",
       "    .dataframe thead th {\n",
       "        text-align: right;\n",
       "    }\n",
       "</style>\n",
       "<table border=\"1\" class=\"dataframe\">\n",
       "  <thead>\n",
       "    <tr style=\"text-align: right;\">\n",
       "      <th></th>\n",
       "      <th>Transaction unique identifier</th>\n",
       "      <th>Price</th>\n",
       "      <th>Date of Transfer</th>\n",
       "      <th>Property Type</th>\n",
       "      <th>Old/New</th>\n",
       "      <th>Duration</th>\n",
       "      <th>Town/City</th>\n",
       "      <th>District</th>\n",
       "      <th>County</th>\n",
       "      <th>PPDCategory Type</th>\n",
       "      <th>Record Status - monthly file only</th>\n",
       "    </tr>\n",
       "  </thead>\n",
       "  <tbody>\n",
       "    <tr>\n",
       "      <th>0</th>\n",
       "      <td>{81B82214-7FBC-4129-9F6B-4956B4A663AD}</td>\n",
       "      <td>25000</td>\n",
       "      <td>1995-08-18 00:00</td>\n",
       "      <td>T</td>\n",
       "      <td>N</td>\n",
       "      <td>F</td>\n",
       "      <td>OLDHAM</td>\n",
       "      <td>OLDHAM</td>\n",
       "      <td>GREATER MANCHESTER</td>\n",
       "      <td>A</td>\n",
       "      <td>A</td>\n",
       "    </tr>\n",
       "    <tr>\n",
       "      <th>1</th>\n",
       "      <td>{8046EC72-1466-42D6-A753-4956BF7CD8A2}</td>\n",
       "      <td>42500</td>\n",
       "      <td>1995-08-09 00:00</td>\n",
       "      <td>S</td>\n",
       "      <td>N</td>\n",
       "      <td>F</td>\n",
       "      <td>GRAYS</td>\n",
       "      <td>THURROCK</td>\n",
       "      <td>THURROCK</td>\n",
       "      <td>A</td>\n",
       "      <td>A</td>\n",
       "    </tr>\n",
       "    <tr>\n",
       "      <th>2</th>\n",
       "      <td>{278D581A-5BF3-4FCE-AF62-4956D87691E6}</td>\n",
       "      <td>45000</td>\n",
       "      <td>1995-06-30 00:00</td>\n",
       "      <td>T</td>\n",
       "      <td>N</td>\n",
       "      <td>F</td>\n",
       "      <td>HIGHBRIDGE</td>\n",
       "      <td>SEDGEMOOR</td>\n",
       "      <td>SOMERSET</td>\n",
       "      <td>A</td>\n",
       "      <td>A</td>\n",
       "    </tr>\n",
       "    <tr>\n",
       "      <th>3</th>\n",
       "      <td>{1D861C06-A416-4865-973C-4956DB12CD12}</td>\n",
       "      <td>43150</td>\n",
       "      <td>1995-11-24 00:00</td>\n",
       "      <td>T</td>\n",
       "      <td>N</td>\n",
       "      <td>F</td>\n",
       "      <td>BEDFORD</td>\n",
       "      <td>NORTH BEDFORDSHIRE</td>\n",
       "      <td>BEDFORDSHIRE</td>\n",
       "      <td>A</td>\n",
       "      <td>A</td>\n",
       "    </tr>\n",
       "    <tr>\n",
       "      <th>4</th>\n",
       "      <td>{DD8645FD-A815-43A6-A7BA-4956E58F1874}</td>\n",
       "      <td>18899</td>\n",
       "      <td>1995-06-23 00:00</td>\n",
       "      <td>S</td>\n",
       "      <td>N</td>\n",
       "      <td>F</td>\n",
       "      <td>WAKEFIELD</td>\n",
       "      <td>LEEDS</td>\n",
       "      <td>WEST YORKSHIRE</td>\n",
       "      <td>A</td>\n",
       "      <td>A</td>\n",
       "    </tr>\n",
       "  </tbody>\n",
       "</table>\n",
       "</div>"
      ],
      "text/plain": [
       "            Transaction unique identifier  Price  Date of Transfer  \\\n",
       "0  {81B82214-7FBC-4129-9F6B-4956B4A663AD}  25000  1995-08-18 00:00   \n",
       "1  {8046EC72-1466-42D6-A753-4956BF7CD8A2}  42500  1995-08-09 00:00   \n",
       "2  {278D581A-5BF3-4FCE-AF62-4956D87691E6}  45000  1995-06-30 00:00   \n",
       "3  {1D861C06-A416-4865-973C-4956DB12CD12}  43150  1995-11-24 00:00   \n",
       "4  {DD8645FD-A815-43A6-A7BA-4956E58F1874}  18899  1995-06-23 00:00   \n",
       "\n",
       "  Property Type Old/New Duration   Town/City            District  \\\n",
       "0             T       N        F      OLDHAM              OLDHAM   \n",
       "1             S       N        F       GRAYS            THURROCK   \n",
       "2             T       N        F  HIGHBRIDGE           SEDGEMOOR   \n",
       "3             T       N        F     BEDFORD  NORTH BEDFORDSHIRE   \n",
       "4             S       N        F   WAKEFIELD               LEEDS   \n",
       "\n",
       "               County PPDCategory Type Record Status - monthly file only  \n",
       "0  GREATER MANCHESTER                A                                 A  \n",
       "1            THURROCK                A                                 A  \n",
       "2            SOMERSET                A                                 A  \n",
       "3        BEDFORDSHIRE                A                                 A  \n",
       "4      WEST YORKSHIRE                A                                 A  "
      ]
     },
     "execution_count": 3,
     "metadata": {},
     "output_type": "execute_result"
    }
   ],
   "source": [
    "print(\"Column names:\")\n",
    "print(df.columns.tolist())\n",
    "print(\"\\nFirst 5 rows\")\n",
    "df.head()"
   ]
  },
  {
   "cell_type": "code",
   "execution_count": 4,
   "id": "6fbd6412",
   "metadata": {},
   "outputs": [
    {
     "name": "stdout",
     "output_type": "stream",
     "text": [
      "Dataset Info:\n",
      "Shape: (22489348, 11)\n",
      "Memory usage: 12618.3 MB\n",
      "\n",
      "Data Types:\n",
      "Transaction unique identifier        object\n",
      "Price                                 int64\n",
      "Date of Transfer                     object\n",
      "Property Type                        object\n",
      "Old/New                              object\n",
      "Duration                             object\n",
      "Town/City                            object\n",
      "District                             object\n",
      "County                               object\n",
      "PPDCategory Type                     object\n",
      "Record Status - monthly file only    object\n",
      "dtype: object\n"
     ]
    }
   ],
   "source": [
    "# Basic data information\n",
    "print(\"Dataset Info:\")\n",
    "print(f\"Shape: {df.shape}\")\n",
    "print(f\"Memory usage: {df.memory_usage(deep=True).sum() / 1024**2:.1f} MB\")\n",
    "\n",
    "print(\"\\nData Types:\")\n",
    "print(df.dtypes)"
   ]
  },
  {
   "cell_type": "code",
   "execution_count": 7,
   "id": "2f1fd0d9",
   "metadata": {},
   "outputs": [
    {
     "name": "stdout",
     "output_type": "stream",
     "text": [
      "Missing Values:\n",
      "Transaction unique identifier        0\n",
      "Price                                0\n",
      "Date of Transfer                     0\n",
      "Property Type                        0\n",
      "Old/New                              0\n",
      "Duration                             0\n",
      "Town/City                            0\n",
      "District                             0\n",
      "County                               0\n",
      "PPDCategory Type                     0\n",
      "Record Status - monthly file only    0\n",
      "dtype: int64\n",
      "\n",
      "Total missing values: 0\n"
     ]
    }
   ],
   "source": [
    "# Check for missing values\n",
    "print(\"Missing Values:\")\n",
    "missing_data = df.isnull().sum()\n",
    "print(missing_data)\n",
    "print(f\"\\nTotal missing values: {missing_data.sum()}\")"
   ]
  },
  {
   "cell_type": "code",
   "execution_count": 7,
   "id": "b51ec474",
   "metadata": {},
   "outputs": [
    {
     "name": "stdout",
     "output_type": "stream",
     "text": [
      "Price Statistics:\n",
      "<bound method NDFrame.describe of 0            25000\n",
      "1            42500\n",
      "2            45000\n",
      "3            43150\n",
      "4            18899\n",
      "             ...  \n",
      "22489343    175000\n",
      "22489344    586945\n",
      "22489345    274000\n",
      "22489346     36000\n",
      "22489347    145000\n",
      "Name: Price, Length: 22489348, dtype: int64>\n",
      "\n",
      "Price range: £1 to £98,900,000\n",
      "Average price: £178,244\n",
      "Median price: £130,000\n"
     ]
    }
   ],
   "source": [
    "# Analyze price column\n",
    "print(\"Price Statistics:\")\n",
    "print(df['Price'].describe)\n",
    "\n",
    "print(f\"\\nPrice range: £{df['Price'].min():,} to £{df['Price'].max():,}\")\n",
    "print(f\"Average price: £{df['Price'].mean():,.0f}\")\n",
    "print(f\"Median price: £{df['Price'].median():,.0f}\")\n"
   ]
  },
  {
   "cell_type": "code",
   "execution_count": 6,
   "id": "42e00623",
   "metadata": {},
   "outputs": [
    {
     "name": "stdout",
     "output_type": "stream",
     "text": [
      "Property Types:\n",
      "Property Type\n",
      "T    6918811\n",
      "S    6216218\n",
      "D    5170327\n",
      "F    4083424\n",
      "O     100568\n",
      "Name: count, dtype: int64\n"
     ]
    }
   ],
   "source": [
    "# Property type distribution\n",
    "print(\"Property Types:\")\n",
    "print(df['Property Type'].value_counts())\n"
   ]
  },
  {
   "cell_type": "code",
   "execution_count": 8,
   "id": "56d24d95",
   "metadata": {},
   "outputs": [
    {
     "name": "stdout",
     "output_type": "stream",
     "text": [
      "Clean dataset saved to: ../inputs/datasets/collection/uk_housing_clean.csv\n"
     ]
    }
   ],
   "source": [
    "# Save to collection folder for analysis\n",
    "output_path = \"../inputs/datasets/collection/uk_housing_clean.csv\"\n",
    "df.to_csv(output_path, index=False)\n",
    "print(f\"Clean dataset saved to: {output_path}\")"
   ]
  },
  {
   "cell_type": "code",
   "execution_count": 11,
   "id": "d4dda697",
   "metadata": {},
   "outputs": [
    {
     "name": "stdout",
     "output_type": "stream",
     "text": [
      "Small dataset created with 20,000 properties\n"
     ]
    }
   ],
   "source": [
    "# create a smaller database for fast loading\n",
    "df_small = df.sample(n=20000, random_state=42)\n",
    "df_small.to_csv(\"../inputs/datasets/collection/uk_housing_small.csv\", index=False)\n",
    "print(f\"Small dataset created with {len(df_small):,} properties\")"
   ]
  }
 ],
 "metadata": {
  "kernelspec": {
   "display_name": "Python 3",
   "language": "python",
   "name": "python3"
  },
  "language_info": {
   "codemirror_mode": {
    "name": "ipython",
    "version": 3
   },
   "file_extension": ".py",
   "mimetype": "text/x-python",
   "name": "python",
   "nbconvert_exporter": "python",
   "pygments_lexer": "ipython3",
   "version": "3.12.11"
  }
 },
 "nbformat": 4,
 "nbformat_minor": 5
}

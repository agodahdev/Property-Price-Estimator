{
 "cells": [
  {
   "cell_type": "code",
   "execution_count": null,
   "id": "3d25393e",
   "metadata": {},
   "outputs": [],
   "source": [
    "# Data Preparation Notebook\n",
    "\n",
    "## Objectives\n",
    "- Clean the data by removing outliers\n",
    "- Handle any data quality issues  \n",
    "- Create new features to improve predictions\n",
    "- Prepare data for machine learning\n",
    "\n",
    "## Inputs\n",
    "- Raw data from inputs/datasets/collection/uk_housing_small.csv\n",
    "\n",
    "## Outputs\n",
    "- Cleaned dataset ready for modeling\n",
    "- New engineered features"
   ]
  }
 ],
 "metadata": {
  "language_info": {
   "name": "python"
  }
 },
 "nbformat": 4,
 "nbformat_minor": 5
}

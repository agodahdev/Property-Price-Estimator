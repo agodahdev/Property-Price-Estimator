{
 "cells": [
  {
   "cell_type": "code",
   "execution_count": null,
   "id": "3d25393e",
   "metadata": {},
   "outputs": [],
   "source": [
    "# Data Preparation Notebook\n",
    "\n",
    "## Objectives\n",
    "- Clean the data by removing outliers\n",
    "- Handle any data quality issues  \n",
    "- Create new features to improve predictions\n",
    "- Prepare data for machine learning\n",
    "\n",
    "## Inputs\n",
    "- Raw data from inputs/datasets/collection/uk_housing_small.csv\n",
    "\n",
    "## Outputs\n",
    "- Cleaned dataset ready for modeling\n",
    "- New engineered features"
   ]
  },
  {
   "cell_type": "code",
   "execution_count": 1,
   "id": "6f583f0e",
   "metadata": {},
   "outputs": [],
   "source": [
    "import pandas as pd\n",
    "import numpy as np\n",
    "import matplotlib.pyplot as plt\n",
    "import seaborn as sns\n",
    "\n",
    "# Set style for nice plots\n",
    "sns.set_style('whitegrid')\n",
    "plt.rcParams['figure.figsize'] = (10, 6)"
   ]
  },
  {
   "cell_type": "code",
   "execution_count": 2,
   "id": "8a476dea",
   "metadata": {},
   "outputs": [
    {
     "name": "stdout",
     "output_type": "stream",
     "text": [
      "Loaded 20000 properties\n",
      "Columns: ['Transaction unique identifier', 'Price', 'Date of Transfer', 'Property Type', 'Old/New', 'Duration', 'Town/City', 'District', 'County', 'PPDCategory Type', 'Record Status - monthly file only']\n"
     ]
    }
   ],
   "source": [
    "# Load the small dataset we created\n",
    "df = pd.read_csv('../inputs/datasets/collection/uk_housing_small.csv')\n",
    "print(f\"Loaded {len(df)} properties\")\n",
    "print(f\"Columns: {df.columns.tolist()}\")"
   ]
  },
  {
   "cell_type": "code",
   "execution_count": 3,
   "id": "c4880d50",
   "metadata": {},
   "outputs": [
    {
     "data": {
      "text/html": [
       "<div>\n",
       "<style scoped>\n",
       "    .dataframe tbody tr th:only-of-type {\n",
       "        vertical-align: middle;\n",
       "    }\n",
       "\n",
       "    .dataframe tbody tr th {\n",
       "        vertical-align: top;\n",
       "    }\n",
       "\n",
       "    .dataframe thead th {\n",
       "        text-align: right;\n",
       "    }\n",
       "</style>\n",
       "<table border=\"1\" class=\"dataframe\">\n",
       "  <thead>\n",
       "    <tr style=\"text-align: right;\">\n",
       "      <th></th>\n",
       "      <th>Transaction unique identifier</th>\n",
       "      <th>Price</th>\n",
       "      <th>Date of Transfer</th>\n",
       "      <th>Property Type</th>\n",
       "      <th>Old/New</th>\n",
       "      <th>Duration</th>\n",
       "      <th>Town/City</th>\n",
       "      <th>District</th>\n",
       "      <th>County</th>\n",
       "      <th>PPDCategory Type</th>\n",
       "      <th>Record Status - monthly file only</th>\n",
       "    </tr>\n",
       "  </thead>\n",
       "  <tbody>\n",
       "    <tr>\n",
       "      <th>0</th>\n",
       "      <td>{6146E264-E0D9-4C53-ACC8-48DB3954F80B}</td>\n",
       "      <td>95200</td>\n",
       "      <td>2007-11-23 00:00</td>\n",
       "      <td>F</td>\n",
       "      <td>Y</td>\n",
       "      <td>L</td>\n",
       "      <td>SWINDON</td>\n",
       "      <td>SWINDON</td>\n",
       "      <td>SWINDON</td>\n",
       "      <td>A</td>\n",
       "      <td>A</td>\n",
       "    </tr>\n",
       "    <tr>\n",
       "      <th>1</th>\n",
       "      <td>{26EBD75A-D90F-411C-85E5-4D56F0F66484}</td>\n",
       "      <td>199950</td>\n",
       "      <td>2013-06-28 00:00</td>\n",
       "      <td>S</td>\n",
       "      <td>Y</td>\n",
       "      <td>F</td>\n",
       "      <td>BINGLEY</td>\n",
       "      <td>BRADFORD</td>\n",
       "      <td>WEST YORKSHIRE</td>\n",
       "      <td>A</td>\n",
       "      <td>A</td>\n",
       "    </tr>\n",
       "    <tr>\n",
       "      <th>2</th>\n",
       "      <td>{E700C723-9426-4924-8D3F-1730EC3B2BCC}</td>\n",
       "      <td>132000</td>\n",
       "      <td>2001-06-26 00:00</td>\n",
       "      <td>S</td>\n",
       "      <td>N</td>\n",
       "      <td>F</td>\n",
       "      <td>BRIGHTON</td>\n",
       "      <td>BRIGHTON AND HOVE</td>\n",
       "      <td>BRIGHTON AND HOVE</td>\n",
       "      <td>A</td>\n",
       "      <td>A</td>\n",
       "    </tr>\n",
       "    <tr>\n",
       "      <th>3</th>\n",
       "      <td>{677E0E46-8E8F-4560-AD93-07F72D5AE6D5}</td>\n",
       "      <td>60000</td>\n",
       "      <td>1997-10-31 00:00</td>\n",
       "      <td>S</td>\n",
       "      <td>N</td>\n",
       "      <td>F</td>\n",
       "      <td>CAERPHILLY</td>\n",
       "      <td>CAERPHILLY</td>\n",
       "      <td>CAERPHILLY</td>\n",
       "      <td>A</td>\n",
       "      <td>A</td>\n",
       "    </tr>\n",
       "    <tr>\n",
       "      <th>4</th>\n",
       "      <td>{E2387F76-24EC-4A7E-8A27-220E500F0DC2}</td>\n",
       "      <td>87000</td>\n",
       "      <td>1998-02-23 00:00</td>\n",
       "      <td>S</td>\n",
       "      <td>N</td>\n",
       "      <td>F</td>\n",
       "      <td>BEXLEYHEATH</td>\n",
       "      <td>BEXLEY</td>\n",
       "      <td>GREATER LONDON</td>\n",
       "      <td>A</td>\n",
       "      <td>A</td>\n",
       "    </tr>\n",
       "  </tbody>\n",
       "</table>\n",
       "</div>"
      ],
      "text/plain": [
       "            Transaction unique identifier   Price  Date of Transfer  \\\n",
       "0  {6146E264-E0D9-4C53-ACC8-48DB3954F80B}   95200  2007-11-23 00:00   \n",
       "1  {26EBD75A-D90F-411C-85E5-4D56F0F66484}  199950  2013-06-28 00:00   \n",
       "2  {E700C723-9426-4924-8D3F-1730EC3B2BCC}  132000  2001-06-26 00:00   \n",
       "3  {677E0E46-8E8F-4560-AD93-07F72D5AE6D5}   60000  1997-10-31 00:00   \n",
       "4  {E2387F76-24EC-4A7E-8A27-220E500F0DC2}   87000  1998-02-23 00:00   \n",
       "\n",
       "  Property Type Old/New Duration    Town/City           District  \\\n",
       "0             F       Y        L      SWINDON            SWINDON   \n",
       "1             S       Y        F      BINGLEY           BRADFORD   \n",
       "2             S       N        F     BRIGHTON  BRIGHTON AND HOVE   \n",
       "3             S       N        F   CAERPHILLY         CAERPHILLY   \n",
       "4             S       N        F  BEXLEYHEATH             BEXLEY   \n",
       "\n",
       "              County PPDCategory Type Record Status - monthly file only  \n",
       "0            SWINDON                A                                 A  \n",
       "1     WEST YORKSHIRE                A                                 A  \n",
       "2  BRIGHTON AND HOVE                A                                 A  \n",
       "3         CAERPHILLY                A                                 A  \n",
       "4     GREATER LONDON                A                                 A  "
      ]
     },
     "execution_count": 3,
     "metadata": {},
     "output_type": "execute_result"
    }
   ],
   "source": [
    "df.head()"
   ]
  },
  {
   "cell_type": "code",
   "execution_count": 4,
   "id": "e3646108",
   "metadata": {},
   "outputs": [
    {
     "name": "stdout",
     "output_type": "stream",
     "text": [
      "Missing values per column:\n",
      "Series([], dtype: int64)\n",
      "\n",
      "No missing values found - data is complete!\n"
     ]
    }
   ],
   "source": [
    "# Check for missing values\n",
    "missing = df.isnull().sum()\n",
    "print(\"Missing values per column:\")\n",
    "print(missing[missing > 0])\n",
    "\n",
    "if missing.sum() == 0:\n",
    "    print(\"\\nNo missing values found - data is complete!\")\n",
    "else:\n",
    "    print(f\"\\nTotal missing values: {missing.sum()}\")"
   ]
  },
  {
   "cell_type": "code",
   "execution_count": 5,
   "id": "5055981a",
   "metadata": {},
   "outputs": [
    {
     "name": "stdout",
     "output_type": "stream",
     "text": [
      "No missing values to handle\n"
     ]
    }
   ],
   "source": [
    "# If there were missing values, we would handle them here\n",
    "# For example:\n",
    "# df = df.dropna()  # Remove rows with missing values\n",
    "# or\n",
    "# df['column'].fillna(df['column'].median(), inplace=True)  # Fill with median\n",
    "\n",
    "print(\"No missing values to handle\")"
   ]
  },
  {
   "cell_type": "code",
   "execution_count": 6,
   "id": "739f003c",
   "metadata": {},
   "outputs": [
    {
     "name": "stdout",
     "output_type": "stream",
     "text": [
      "Price Statistics Before Cleaning:\n",
      "count    2.000000e+04\n",
      "mean     1.805406e+05\n",
      "std      4.217152e+05\n",
      "min      1.750000e+03\n",
      "25%      7.600000e+04\n",
      "50%      1.300000e+05\n",
      "75%      2.100000e+05\n",
      "max      4.000000e+07\n",
      "Name: Price, dtype: float64\n"
     ]
    }
   ],
   "source": [
    "# Look at price distribution\n",
    "print(\"Price Statistics Before Cleaning:\")\n",
    "print(df['Price'].describe())"
   ]
  },
  {
   "cell_type": "code",
   "execution_count": 7,
   "id": "9caf4506",
   "metadata": {},
   "outputs": [
    {
     "data": {
      "image/png": "[encoded data removed]",
      "text/plain": [
       "<Figure size 1200x400 with 2 Axes>"
      ]
     },
     "metadata": {},
     "output_type": "display_data"
    }
   ],
   "source": [
    "# Plot price distribution\n",
    "plt.figure(figsize=(12, 4))\n",
    "\n",
    "plt.subplot(1, 2, 1)\n",
    "plt.hist(df['Price'], bins=50, edgecolor='black')\n",
    "plt.title('Price Distribution (All Data)')\n",
    "plt.xlabel('Price (£)')\n",
    "plt.ylabel('Count')\n",
    "\n",
    "plt.subplot(1, 2, 2)\n",
    "plt.boxplot(df['Price'])\n",
    "plt.title('Price Boxplot (Shows Outliers)')\n",
    "plt.ylabel('Price (£)')\n",
    "\n",
    "plt.tight_layout()\n",
    "plt.show()"
   ]
  }
 ],
 "metadata": {
  "kernelspec": {
   "display_name": "Python 3",
   "language": "python",
   "name": "python3"
  },
  "language_info": {
   "codemirror_mode": {
    "name": "ipython",
    "version": 3
   },
   "file_extension": ".py",
   "mimetype": "text/x-python",
   "name": "python",
   "nbconvert_exporter": "python",
   "pygments_lexer": "ipython3",
   "version": "3.12.11"
  }
 },
 "nbformat": 4,
 "nbformat_minor": 5
}

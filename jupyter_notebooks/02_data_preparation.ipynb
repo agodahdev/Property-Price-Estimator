{
 "cells": [
  {
   "cell_type": "code",
   "execution_count": 11,
   "id": "3d25393e",
   "metadata": {},
   "outputs": [
    {
     "ename": "SyntaxError",
     "evalue": "invalid syntax (715566477.py, line 4)",
     "output_type": "error",
     "traceback": [
      "  \u001b[36mCell\u001b[39m\u001b[36m \u001b[39m\u001b[32mIn[11]\u001b[39m\u001b[32m, line 4\u001b[39m\n\u001b[31m    \u001b[39m\u001b[31m- Clean the data by removing outliers\u001b[39m\n            ^\n\u001b[31mSyntaxError\u001b[39m\u001b[31m:\u001b[39m invalid syntax\n"
     ]
    }
   ],
   "source": [
    "# Data Preparation Notebook\n",
    "\n",
    "## Objectives\n",
    "- Clean the data by removing outliers\n",
    "- Handle any data quality issues  \n",
    "- Create new features to improve predictions\n",
    "- Prepare data for machine learning\n",
    "\n",
    "## Inputs\n",
    "- Raw data from inputs/datasets/collection/uk_housing_small.csv\n",
    "\n",
    "## Outputs\n",
    "- Cleaned dataset ready for modeling\n",
    "- New engineered features"
   ]
  },
  {
   "cell_type": "code",
   "execution_count": 1,
   "id": "6f583f0e",
   "metadata": {},
   "outputs": [],
   "source": [
    "import pandas as pd\n",
    "import numpy as np\n",
    "import matplotlib.pyplot as plt\n",
    "import seaborn as sns\n",
    "\n",
    "# Set style for nice plots\n",
    "sns.set_style('whitegrid')\n",
    "plt.rcParams['figure.figsize'] = (10, 6)"
   ]
  },
  {
   "cell_type": "code",
   "execution_count": 2,
   "id": "8a476dea",
   "metadata": {},
   "outputs": [
    {
     "name": "stdout",
     "output_type": "stream",
     "text": [
      "Loaded 20000 properties\n",
      "Columns: ['Transaction unique identifier', 'Price', 'Date of Transfer', 'Property Type', 'Old/New', 'Duration', 'Town/City', 'District', 'County', 'PPDCategory Type', 'Record Status - monthly file only']\n"
     ]
    }
   ],
   "source": [
    "# Load the small dataset we created\n",
    "df = pd.read_csv('../inputs/datasets/collection/uk_housing_small.csv')\n",
    "print(f\"Loaded {len(df)} properties\")\n",
    "print(f\"Columns: {df.columns.tolist()}\")"
   ]
  },
  {
   "cell_type": "code",
   "execution_count": 3,
   "id": "c4880d50",
   "metadata": {},
   "outputs": [
    {
     "data": {
      "text/html": [
       "<div>\n",
       "<style scoped>\n",
       "    .dataframe tbody tr th:only-of-type {\n",
       "        vertical-align: middle;\n",
       "    }\n",
       "\n",
       "    .dataframe tbody tr th {\n",
       "        vertical-align: top;\n",
       "    }\n",
       "\n",
       "    .dataframe thead th {\n",
       "        text-align: right;\n",
       "    }\n",
       "</style>\n",
       "<table border=\"1\" class=\"dataframe\">\n",
       "  <thead>\n",
       "    <tr style=\"text-align: right;\">\n",
       "      <th></th>\n",
       "      <th>Transaction unique identifier</th>\n",
       "      <th>Price</th>\n",
       "      <th>Date of Transfer</th>\n",
       "      <th>Property Type</th>\n",
       "      <th>Old/New</th>\n",
       "      <th>Duration</th>\n",
       "      <th>Town/City</th>\n",
       "      <th>District</th>\n",
       "      <th>County</th>\n",
       "      <th>PPDCategory Type</th>\n",
       "      <th>Record Status - monthly file only</th>\n",
       "    </tr>\n",
       "  </thead>\n",
       "  <tbody>\n",
       "    <tr>\n",
       "      <th>0</th>\n",
       "      <td>{6146E264-E0D9-4C53-ACC8-48DB3954F80B}</td>\n",
       "      <td>95200</td>\n",
       "      <td>2007-11-23 00:00</td>\n",
       "      <td>F</td>\n",
       "      <td>Y</td>\n",
       "      <td>L</td>\n",
       "      <td>SWINDON</td>\n",
       "      <td>SWINDON</td>\n",
       "      <td>SWINDON</td>\n",
       "      <td>A</td>\n",
       "      <td>A</td>\n",
       "    </tr>\n",
       "    <tr>\n",
       "      <th>1</th>\n",
       "      <td>{26EBD75A-D90F-411C-85E5-4D56F0F66484}</td>\n",
       "      <td>199950</td>\n",
       "      <td>2013-06-28 00:00</td>\n",
       "      <td>S</td>\n",
       "      <td>Y</td>\n",
       "      <td>F</td>\n",
       "      <td>BINGLEY</td>\n",
       "      <td>BRADFORD</td>\n",
       "      <td>WEST YORKSHIRE</td>\n",
       "      <td>A</td>\n",
       "      <td>A</td>\n",
       "    </tr>\n",
       "    <tr>\n",
       "      <th>2</th>\n",
       "      <td>{E700C723-9426-4924-8D3F-1730EC3B2BCC}</td>\n",
       "      <td>132000</td>\n",
       "      <td>2001-06-26 00:00</td>\n",
       "      <td>S</td>\n",
       "      <td>N</td>\n",
       "      <td>F</td>\n",
       "      <td>BRIGHTON</td>\n",
       "      <td>BRIGHTON AND HOVE</td>\n",
       "      <td>BRIGHTON AND HOVE</td>\n",
       "      <td>A</td>\n",
       "      <td>A</td>\n",
       "    </tr>\n",
       "    <tr>\n",
       "      <th>3</th>\n",
       "      <td>{677E0E46-8E8F-4560-AD93-07F72D5AE6D5}</td>\n",
       "      <td>60000</td>\n",
       "      <td>1997-10-31 00:00</td>\n",
       "      <td>S</td>\n",
       "      <td>N</td>\n",
       "      <td>F</td>\n",
       "      <td>CAERPHILLY</td>\n",
       "      <td>CAERPHILLY</td>\n",
       "      <td>CAERPHILLY</td>\n",
       "      <td>A</td>\n",
       "      <td>A</td>\n",
       "    </tr>\n",
       "    <tr>\n",
       "      <th>4</th>\n",
       "      <td>{E2387F76-24EC-4A7E-8A27-220E500F0DC2}</td>\n",
       "      <td>87000</td>\n",
       "      <td>1998-02-23 00:00</td>\n",
       "      <td>S</td>\n",
       "      <td>N</td>\n",
       "      <td>F</td>\n",
       "      <td>BEXLEYHEATH</td>\n",
       "      <td>BEXLEY</td>\n",
       "      <td>GREATER LONDON</td>\n",
       "      <td>A</td>\n",
       "      <td>A</td>\n",
       "    </tr>\n",
       "  </tbody>\n",
       "</table>\n",
       "</div>"
      ],
      "text/plain": [
       "            Transaction unique identifier   Price  Date of Transfer  \\\n",
       "0  {6146E264-E0D9-4C53-ACC8-48DB3954F80B}   95200  2007-11-23 00:00   \n",
       "1  {26EBD75A-D90F-411C-85E5-4D56F0F66484}  199950  2013-06-28 00:00   \n",
       "2  {E700C723-9426-4924-8D3F-1730EC3B2BCC}  132000  2001-06-26 00:00   \n",
       "3  {677E0E46-8E8F-4560-AD93-07F72D5AE6D5}   60000  1997-10-31 00:00   \n",
       "4  {E2387F76-24EC-4A7E-8A27-220E500F0DC2}   87000  1998-02-23 00:00   \n",
       "\n",
       "  Property Type Old/New Duration    Town/City           District  \\\n",
       "0             F       Y        L      SWINDON            SWINDON   \n",
       "1             S       Y        F      BINGLEY           BRADFORD   \n",
       "2             S       N        F     BRIGHTON  BRIGHTON AND HOVE   \n",
       "3             S       N        F   CAERPHILLY         CAERPHILLY   \n",
       "4             S       N        F  BEXLEYHEATH             BEXLEY   \n",
       "\n",
       "              County PPDCategory Type Record Status - monthly file only  \n",
       "0            SWINDON                A                                 A  \n",
       "1     WEST YORKSHIRE                A                                 A  \n",
       "2  BRIGHTON AND HOVE                A                                 A  \n",
       "3         CAERPHILLY                A                                 A  \n",
       "4     GREATER LONDON                A                                 A  "
      ]
     },
     "execution_count": 3,
     "metadata": {},
     "output_type": "execute_result"
    }
   ],
   "source": [
    "df.head()"
   ]
  },
  {
   "cell_type": "code",
   "execution_count": 4,
   "id": "e3646108",
   "metadata": {},
   "outputs": [
    {
     "name": "stdout",
     "output_type": "stream",
     "text": [
      "Missing values per column:\n",
      "Series([], dtype: int64)\n",
      "\n",
      "No missing values found - data is complete!\n"
     ]
    }
   ],
   "source": [
    "# Check for missing values\n",
    "missing = df.isnull().sum()\n",
    "print(\"Missing values per column:\")\n",
    "print(missing[missing > 0])\n",
    "\n",
    "if missing.sum() == 0:\n",
    "    print(\"\\nNo missing values found - data is complete!\")\n",
    "else:\n",
    "    print(f\"\\nTotal missing values: {missing.sum()}\")"
   ]
  },
  {
   "cell_type": "code",
   "execution_count": 5,
   "id": "5055981a",
   "metadata": {},
   "outputs": [
    {
     "name": "stdout",
     "output_type": "stream",
     "text": [
      "No missing values to handle\n"
     ]
    }
   ],
   "source": [
    "# If there were missing values, we would handle them here\n",
    "# For example:\n",
    "# df = df.dropna()  # Remove rows with missing values\n",
    "# or\n",
    "# df['column'].fillna(df['column'].median(), inplace=True)  # Fill with median\n",
    "\n",
    "print(\"No missing values to handle\")"
   ]
  },
  {
   "cell_type": "code",
   "execution_count": 6,
   "id": "739f003c",
   "metadata": {},
   "outputs": [
    {
     "name": "stdout",
     "output_type": "stream",
     "text": [
      "Price Statistics Before Cleaning:\n",
      "count    2.000000e+04\n",
      "mean     1.805406e+05\n",
      "std      4.217152e+05\n",
      "min      1.750000e+03\n",
      "25%      7.600000e+04\n",
      "50%      1.300000e+05\n",
      "75%      2.100000e+05\n",
      "max      4.000000e+07\n",
      "Name: Price, dtype: float64\n"
     ]
    }
   ],
   "source": [
    "# Look at price distribution\n",
    "print(\"Price Statistics Before Cleaning:\")\n",
    "print(df['Price'].describe())"
   ]
  },
  {
   "cell_type": "code",
   "execution_count": 8,
   "id": "9caf4506",
   "metadata": {},
   "outputs": [
    {
     "data": {
      "image/png": "[encoded data removed]",
      "text/plain": [
       "<Figure size 1200x400 with 2 Axes>"
      ]
     },
     "metadata": {},
     "output_type": "display_data"
    }
   ],
   "source": [
    "# Plot price distribution\n",
    "plt.figure(figsize=(12, 4))\n",
    "\n",
    "plt.subplot(1, 2, 1)\n",
    "plt.hist(df['Price'], bins=50, edgecolor='black')\n",
    "plt.title('Price Distribution (All Data)')\n",
    "plt.xlabel('Price (£)')\n",
    "plt.ylabel('Count')\n",
    "\n",
    "plt.subplot(1, 2, 2)\n",
    "plt.boxplot(df['Price'])\n",
    "plt.title('Price Boxplot (Shows Outliers)')\n",
    "plt.ylabel('Price (£)')\n",
    "\n",
    "plt.tight_layout()\n",
    "plt.show()"
   ]
  },
  {
   "cell_type": "code",
   "execution_count": 9,
   "id": "d34232f3",
   "metadata": {},
   "outputs": [
    {
     "name": "stdout",
     "output_type": "stream",
     "text": [
      "Identifying outliers...\n",
      "Properties under £50,000: 2321\n",
      "Properties over £1,000,000: 126\n",
      "Properties over £2,000,000: 40\n"
     ]
    }
   ],
   "source": [
    "# Identify extreme outliers\n",
    "print(\"Identifying outliers...\")\n",
    "print(f\"Properties under £50,000: {len(df[df['Price'] < 50000])}\")\n",
    "print(f\"Properties over £1,000,000: {len(df[df['Price'] > 1000000])}\")\n",
    "print(f\"Properties over £2,000,000: {len(df[df['Price'] > 2000000])}\")"
   ]
  },
  {
   "cell_type": "code",
   "execution_count": 10,
   "id": "1b24515c",
   "metadata": {},
   "outputs": [
    {
     "name": "stdout",
     "output_type": "stream",
     "text": [
      "Original dataset: 20000 properties\n",
      "After removing outliers: 17553 properties\n",
      "Removed: 2447 properties\n"
     ]
    }
   ],
   "source": [
    "# Remove extreme outliers\n",
    "print(f\"Original dataset: {len(df)} properties\")\n",
    "\n",
    "# Keep only properties between £50k and £1M\n",
    "df_clean = df[(df['Price'] >= 50000) & (df['Price'] <= 1000000)].copy()\n",
    "\n",
    "print(f\"After removing outliers: {len(df_clean)} properties\")\n",
    "print(f\"Removed: {len(df) - len(df_clean)} properties\")\n",
    "\n",
    "# Update df to use cleaned version\n",
    "df = df_clean"
   ]
  },
  {
   "cell_type": "code",
   "execution_count": 11,
   "id": "94a37f32",
   "metadata": {},
   "outputs": [
    {
     "data": {
      "image/png": "[encoded data removed]",
      "text/plain": [
       "<Figure size 1200x400 with 2 Axes>"
      ]
     },
     "metadata": {},
     "output_type": "display_data"
    },
    {
     "name": "stdout",
     "output_type": "stream",
     "text": [
      "\n",
      "Price Statistics After Cleaning:\n",
      "count      17553.000000\n",
      "mean      181172.084031\n",
      "std       131909.605908\n",
      "min        50000.000000\n",
      "25%        93000.000000\n",
      "50%       145000.000000\n",
      "75%       222000.000000\n",
      "max      1000000.000000\n",
      "Name: Price, dtype: float64\n"
     ]
    }
   ],
   "source": [
    "# Check price distribution after cleaning\n",
    "plt.figure(figsize=(12, 4))\n",
    "\n",
    "plt.subplot(1, 2, 1)\n",
    "plt.hist(df['Price'], bins=50, edgecolor='black', color='green')\n",
    "plt.title('Price Distribution (After Cleaning)')\n",
    "plt.xlabel('Price (£)')\n",
    "plt.ylabel('Count')\n",
    "\n",
    "plt.subplot(1, 2, 2)\n",
    "plt.boxplot(df['Price'])\n",
    "plt.title('Price Boxplot (After Cleaning)')\n",
    "plt.ylabel('Price (£)')\n",
    "\n",
    "plt.tight_layout()\n",
    "plt.show()\n",
    "\n",
    "print(\"\\nPrice Statistics After Cleaning:\")\n",
    "print(df['Price'].describe())"
   ]
  },
  {
   "cell_type": "code",
   "execution_count": 12,
   "id": "db8b6a5b",
   "metadata": {},
   "outputs": [
    {
     "name": "stdout",
     "output_type": "stream",
     "text": [
      "Converting text categories to numbers...\n",
      "Basic encoding complete\n"
     ]
    }
   ],
   "source": [
    "# First, encode categorical features as numbers\n",
    "print(\"Converting text categories to numbers...\")\n",
    "\n",
    "# Make a copy to work with\n",
    "df_encoded = df.copy()\n",
    "\n",
    "# Convert each category to numbers\n",
    "df_encoded['Property_Type_Encoded'] = pd.Categorical(df['Property Type']).codes\n",
    "df_encoded['County_Encoded'] = pd.Categorical(df['County']).codes\n",
    "df_encoded['Old_New_Encoded'] = pd.Categorical(df['Old/New']).codes\n",
    "df_encoded['Duration_Encoded'] = pd.Categorical(df['Duration']).codes\n",
    "\n",
    "print(\"Basic encoding complete\")"
   ]
  },
  {
   "cell_type": "code",
   "execution_count": 13,
   "id": "c5edf471",
   "metadata": {},
   "outputs": [
    {
     "name": "stdout",
     "output_type": "stream",
     "text": [
      "Creating interaction features...\n",
      "Interaction feature created\n"
     ]
    }
   ],
   "source": [
    "# Create interaction feature\n",
    "print(\"Creating interaction features...\")\n",
    "\n",
    "# Property type and age interaction (new terraced vs old terraced might differ)\n",
    "df_encoded['Type_Age_Interaction'] = (\n",
    "    df_encoded['Property_Type_Encoded'] * df_encoded['Old_New_Encoded']\n",
    ")\n",
    "\n",
    "print(\"Interaction feature created\")"
   ]
  },
  {
   "cell_type": "code",
   "execution_count": 14,
   "id": "94397a11",
   "metadata": {},
   "outputs": [
    {
     "name": "stdout",
     "output_type": "stream",
     "text": [
      "Creating county price tier feature...\n",
      "County price tiers created\n",
      "Budget counties (tier 0): 14212\n",
      "Mid counties (tier 1): 3341\n",
      "Premium counties (tier 2): 0\n"
     ]
    }
   ],
   "source": [
    "# Create county price tier feature\n",
    "print(\"Creating county price tier feature...\")\n",
    "\n",
    "# Calculate average price per county\n",
    "county_avg_price = df.groupby('County')['Price'].mean()\n",
    "\n",
    "# Create price tiers\n",
    "def get_price_tier(county):\n",
    "    avg_price = county_avg_price.get(county, 0)\n",
    "    if avg_price < 250000:\n",
    "        return 0  # Budget tier\n",
    "    elif avg_price < 400000:\n",
    "        return 1  # Mid tier\n",
    "    else:\n",
    "        return 2  # Premium tier\n",
    "\n",
    "df_encoded['County_Price_Tier'] = df['County'].apply(get_price_tier)\n",
    "\n",
    "print(\"County price tiers created\")\n",
    "print(f\"Budget counties (tier 0): {(df_encoded['County_Price_Tier'] == 0).sum()}\")\n",
    "print(f\"Mid counties (tier 1): {(df_encoded['County_Price_Tier'] == 1).sum()}\")\n",
    "print(f\"Premium counties (tier 2): {(df_encoded['County_Price_Tier'] == 2).sum()}\")"
   ]
  },
  {
   "cell_type": "code",
   "execution_count": 16,
   "id": "38553d02",
   "metadata": {},
   "outputs": [
    {
     "name": "stdout",
     "output_type": "stream",
     "text": [
      "Creating property type rarity feature...\n",
      "Property type rarity created\n",
      "Most common type frequency: 0.280\n",
      "Rarest type frequency: 0.004\n"
     ]
    }
   ],
   "source": [
    "# Create property type rarity feature\n",
    "print(\"Creating property type rarity feature...\")\n",
    "\n",
    "# Calculate how common each property type is\n",
    "type_frequency = df['Property Type'].value_counts(normalize=True)\n",
    "\n",
    "# Map to each property\n",
    "df_encoded['Type_Rarity'] = df['Property Type'].map(type_frequency)\n",
    "\n",
    "print(\"Property type rarity created\")\n",
    "print(f\"Most common type frequency: {df_encoded['Type_Rarity'].max():.3f}\")\n",
    "print(f\"Rarest type frequency: {df_encoded['Type_Rarity'].min():.3f}\")"
   ]
  },
  {
   "cell_type": "code",
   "execution_count": 17,
   "id": "1873a6ab",
   "metadata": {},
   "outputs": [
    {
     "name": "stdout",
     "output_type": "stream",
     "text": [
      "Validating new features...\n",
      "\n",
      "Feature summary:\n",
      "Property_Type_Encoded:\n",
      "  Min: 0.00\n",
      "  Max: 4.00\n",
      "  Unique values: 5\n",
      "County_Encoded:\n",
      "  Min: 0.00\n",
      "  Max: 124.00\n",
      "  Unique values: 125\n",
      "Old_New_Encoded:\n",
      "  Min: 0.00\n",
      "  Max: 1.00\n",
      "  Unique values: 2\n",
      "Duration_Encoded:\n",
      "  Min: 0.00\n",
      "  Max: 1.00\n",
      "  Unique values: 2\n",
      "Type_Age_Interaction:\n",
      "  Min: 0.00\n",
      "  Max: 4.00\n",
      "  Unique values: 5\n",
      "County_Price_Tier:\n",
      "  Min: 0.00\n",
      "  Max: 1.00\n",
      "  Unique values: 2\n",
      "Type_Rarity:\n",
      "  Min: 0.00\n",
      "  Max: 0.28\n",
      "  Unique values: 5\n"
     ]
    }
   ],
   "source": [
    "#Check if new features make sense\n",
    "print(\"Validating new features...\")\n",
    "\n",
    "# List all features\n",
    "engineered_features = [\n",
    "    'Property_Type_Encoded', 'County_Encoded', 'Old_New_Encoded', \n",
    "    'Duration_Encoded', 'Type_Age_Interaction', 'County_Price_Tier', \n",
    "    'Type_Rarity'\n",
    "]\n",
    "\n",
    "print(\"\\nFeature summary:\")\n",
    "for feature in engineered_features:\n",
    "    print(f\"{feature}:\")\n",
    "    print(f\"  Min: {df_encoded[feature].min():.2f}\")\n",
    "    print(f\"  Max: {df_encoded[feature].max():.2f}\")\n",
    "    print(f\"  Unique values: {df_encoded[feature].nunique()}\")"
   ]
  },
  {
   "cell_type": "code",
   "execution_count": 18,
   "id": "35629794",
   "metadata": {},
   "outputs": [
    {
     "name": "stdout",
     "output_type": "stream",
     "text": [
      "Feature correlation with Price:\n",
      "Property_Type_Encoded: -0.232\n",
      "County_Encoded: -0.078\n",
      "Old_New_Encoded: 0.005\n",
      "Duration_Encoded: -0.046\n",
      "Type_Age_Interaction: -0.015\n",
      "County_Price_Tier: 0.292\n",
      "Type_Rarity: -0.067\n",
      "\n",
      "Features ranked by correlation with price:\n",
      "County_Price_Tier: 0.292\n",
      "Property_Type_Encoded: -0.232\n",
      "County_Encoded: -0.078\n",
      "Type_Rarity: -0.067\n",
      "Duration_Encoded: -0.046\n",
      "Type_Age_Interaction: -0.015\n",
      "Old_New_Encoded: 0.005\n"
     ]
    }
   ],
   "source": [
    "# Check correlation with price\n",
    "print(\"Feature correlation with Price:\")\n",
    "correlations = {}\n",
    "for feature in engineered_features:\n",
    "    corr = df_encoded[feature].corr(df_encoded['Price'])\n",
    "    correlations[feature] = corr\n",
    "    print(f\"{feature}: {corr:.3f}\")\n",
    "\n",
    "# Show which features are most important\n",
    "sorted_corr = sorted(correlations.items(), key=lambda x: abs(x[1]), reverse=True)\n",
    "print(\"\\nFeatures ranked by correlation with price:\")\n",
    "for feature, corr in sorted_corr:\n",
    "    print(f\"{feature}: {corr:.3f}\")"
   ]
  }
 ],
 "metadata": {
  "kernelspec": {
   "display_name": "Python 3",
   "language": "python",
   "name": "python3"
  },
  "language_info": {
   "codemirror_mode": {
    "name": "ipython",
    "version": 3
   },
   "file_extension": ".py",
   "mimetype": "text/x-python",
   "name": "python",
   "nbconvert_exporter": "python",
   "pygments_lexer": "ipython3",
   "version": "3.12.11"
  }
 },
 "nbformat": 4,
 "nbformat_minor": 5
}

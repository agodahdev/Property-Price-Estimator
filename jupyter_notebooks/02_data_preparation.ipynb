{
 "cells": [
  {
   "cell_type": "code",
   "execution_count": null,
   "id": "3d25393e",
   "metadata": {},
   "outputs": [],
   "source": [
    "# Data Preparation Notebook\n",
    "\n",
    "## Objectives\n",
    "- Clean the data by removing outliers\n",
    "- Handle any data quality issues  \n",
    "- Create new features to improve predictions\n",
    "- Prepare data for machine learning\n",
    "\n",
    "## Inputs\n",
    "- Raw data from inputs/datasets/collection/uk_housing_small.csv\n",
    "\n",
    "## Outputs\n",
    "- Cleaned dataset ready for modeling\n",
    "- New engineered features"
   ]
  },
  {
   "cell_type": "code",
   "execution_count": 1,
   "id": "6f583f0e",
   "metadata": {},
   "outputs": [],
   "source": [
    "import pandas as pd\n",
    "import numpy as np\n",
    "import matplotlib.pyplot as plt\n",
    "import seaborn as sns\n",
    "\n",
    "# Set style for nice plots\n",
    "sns.set_style('whitegrid')\n",
    "plt.rcParams['figure.figsize'] = (10, 6)"
   ]
  },
  {
   "cell_type": "code",
   "execution_count": 2,
   "id": "8a476dea",
   "metadata": {},
   "outputs": [
    {
     "name": "stdout",
     "output_type": "stream",
     "text": [
      "Loaded 20000 properties\n",
      "Columns: ['Transaction unique identifier', 'Price', 'Date of Transfer', 'Property Type', 'Old/New', 'Duration', 'Town/City', 'District', 'County', 'PPDCategory Type', 'Record Status - monthly file only']\n"
     ]
    }
   ],
   "source": [
    "# Load the small dataset we created\n",
    "df = pd.read_csv('../inputs/datasets/collection/uk_housing_small.csv')\n",
    "print(f\"Loaded {len(df)} properties\")\n",
    "print(f\"Columns: {df.columns.tolist()}\")"
   ]
  }
 ],
 "metadata": {
  "kernelspec": {
   "display_name": "Python 3",
   "language": "python",
   "name": "python3"
  },
  "language_info": {
   "codemirror_mode": {
    "name": "ipython",
    "version": 3
   },
   "file_extension": ".py",
   "mimetype": "text/x-python",
   "name": "python",
   "nbconvert_exporter": "python",
   "pygments_lexer": "ipython3",
   "version": "3.12.11"
  }
 },
 "nbformat": 4,
 "nbformat_minor": 5
}

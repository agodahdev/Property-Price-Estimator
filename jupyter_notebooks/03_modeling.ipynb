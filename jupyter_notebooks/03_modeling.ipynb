{
 "cells": [
  {
   "cell_type": "markdown",
   "id": "2905fc81",
   "metadata": {},
   "source": [
    "# Machine Learning Modeling Notebook\n",
    "\n",
    "## Objectives\n",
    "- Build machine learning models to predict house prices\n",
    "- Compare different models to find the best one\n",
    "- Tune parameters to improve performance\n",
    "- Save the best model for deployment\n",
    "\n",
    "## Inputs\n",
    "- Prepared data from outputs/datasets/prepared/v1/prepared_data.csv\n",
    "\n",
    "## Outputs\n",
    "- Trained ML model saved as pickle file\n",
    "- Model performance metrics\n",
    "- Feature importance analysis"
   ]
  },
  {
   "cell_type": "code",
   "execution_count": 1,
   "id": "068ee6fa",
   "metadata": {},
   "outputs": [],
   "source": [
    "# Basic libraries\n",
    "import pandas as pd\n",
    "import numpy as np\n",
    "import matplotlib.pyplot as plt\n",
    "import seaborn as sns\n",
    "\n",
    "# Machine learning libraries\n",
    "from sklearn.model_selection import train_test_split, cross_val_score, GridSearchCV\n",
    "from sklearn.metrics import r2_score, mean_absolute_error, mean_squared_error\n",
    "from sklearn.ensemble import RandomForestRegressor\n",
    "from sklearn.linear_model import LinearRegression\n",
    "from sklearn.tree import DecisionTreeRegressor\n",
    "from sklearn.neighbors import KNeighborsRegressor\n",
    "\n",
    "# For saving models\n",
    "import pickle\n",
    "import os\n",
    "\n",
    "# Set style\n",
    "sns.set_style('whitegrid')\n",
    "plt.rcParams['figure.figsize'] = (10, 6)"
   ]
  },
  {
   "cell_type": "code",
   "execution_count": 2,
   "id": "e47c49cf",
   "metadata": {},
   "outputs": [
    {
     "name": "stdout",
     "output_type": "stream",
     "text": [
      "Loaded 17553 properties\n",
      "Columns: ['Transaction unique identifier', 'Price', 'Date of Transfer', 'Property Type', 'Old/New', 'Duration', 'Town/City', 'District', 'County', 'PPDCategory Type', 'Record Status - monthly file only', 'Property_Type_Encoded', 'County_Encoded', 'Old_New_Encoded', 'Duration_Encoded', 'Type_Age_Interaction', 'County_Price_Tier', 'Type_Rarity']\n"
     ]
    }
   ],
   "source": [
    "# Load the prepared data\n",
    "df = pd.read_csv('../outputs/datasets/prepared/v1/prepared_data.csv')\n",
    "\n",
    "print(f\"Loaded {len(df)} properties\")\n",
    "print(f\"Columns: {df.columns.tolist()}\")"
   ]
  },
  {
   "cell_type": "code",
   "execution_count": 3,
   "id": "e58b3352",
   "metadata": {},
   "outputs": [
    {
     "data": {
      "text/html": [
       "<div>\n",
       "<style scoped>\n",
       "    .dataframe tbody tr th:only-of-type {\n",
       "        vertical-align: middle;\n",
       "    }\n",
       "\n",
       "    .dataframe tbody tr th {\n",
       "        vertical-align: top;\n",
       "    }\n",
       "\n",
       "    .dataframe thead th {\n",
       "        text-align: right;\n",
       "    }\n",
       "</style>\n",
       "<table border=\"1\" class=\"dataframe\">\n",
       "  <thead>\n",
       "    <tr style=\"text-align: right;\">\n",
       "      <th></th>\n",
       "      <th>Transaction unique identifier</th>\n",
       "      <th>Price</th>\n",
       "      <th>Date of Transfer</th>\n",
       "      <th>Property Type</th>\n",
       "      <th>Old/New</th>\n",
       "      <th>Duration</th>\n",
       "      <th>Town/City</th>\n",
       "      <th>District</th>\n",
       "      <th>County</th>\n",
       "      <th>PPDCategory Type</th>\n",
       "      <th>Record Status - monthly file only</th>\n",
       "      <th>Property_Type_Encoded</th>\n",
       "      <th>County_Encoded</th>\n",
       "      <th>Old_New_Encoded</th>\n",
       "      <th>Duration_Encoded</th>\n",
       "      <th>Type_Age_Interaction</th>\n",
       "      <th>County_Price_Tier</th>\n",
       "      <th>Type_Rarity</th>\n",
       "    </tr>\n",
       "  </thead>\n",
       "  <tbody>\n",
       "    <tr>\n",
       "      <th>0</th>\n",
       "      <td>{6146E264-E0D9-4C53-ACC8-48DB3954F80B}</td>\n",
       "      <td>95200</td>\n",
       "      <td>2007-11-23 00:00</td>\n",
       "      <td>F</td>\n",
       "      <td>Y</td>\n",
       "      <td>L</td>\n",
       "      <td>SWINDON</td>\n",
       "      <td>SWINDON</td>\n",
       "      <td>SWINDON</td>\n",
       "      <td>A</td>\n",
       "      <td>A</td>\n",
       "      <td>1</td>\n",
       "      <td>104</td>\n",
       "      <td>1</td>\n",
       "      <td>1</td>\n",
       "      <td>1</td>\n",
       "      <td>0</td>\n",
       "      <td>0.18128</td>\n",
       "    </tr>\n",
       "    <tr>\n",
       "      <th>1</th>\n",
       "      <td>{26EBD75A-D90F-411C-85E5-4D56F0F66484}</td>\n",
       "      <td>199950</td>\n",
       "      <td>2013-06-28 00:00</td>\n",
       "      <td>S</td>\n",
       "      <td>Y</td>\n",
       "      <td>F</td>\n",
       "      <td>BINGLEY</td>\n",
       "      <td>BRADFORD</td>\n",
       "      <td>WEST YORKSHIRE</td>\n",
       "      <td>A</td>\n",
       "      <td>A</td>\n",
       "      <td>3</td>\n",
       "      <td>117</td>\n",
       "      <td>1</td>\n",
       "      <td>0</td>\n",
       "      <td>3</td>\n",
       "      <td>0</td>\n",
       "      <td>0.27699</td>\n",
       "    </tr>\n",
       "    <tr>\n",
       "      <th>2</th>\n",
       "      <td>{E700C723-9426-4924-8D3F-1730EC3B2BCC}</td>\n",
       "      <td>132000</td>\n",
       "      <td>2001-06-26 00:00</td>\n",
       "      <td>S</td>\n",
       "      <td>N</td>\n",
       "      <td>F</td>\n",
       "      <td>BRIGHTON</td>\n",
       "      <td>BRIGHTON AND HOVE</td>\n",
       "      <td>BRIGHTON AND HOVE</td>\n",
       "      <td>A</td>\n",
       "      <td>A</td>\n",
       "      <td>3</td>\n",
       "      <td>11</td>\n",
       "      <td>0</td>\n",
       "      <td>0</td>\n",
       "      <td>0</td>\n",
       "      <td>0</td>\n",
       "      <td>0.27699</td>\n",
       "    </tr>\n",
       "    <tr>\n",
       "      <th>3</th>\n",
       "      <td>{677E0E46-8E8F-4560-AD93-07F72D5AE6D5}</td>\n",
       "      <td>60000</td>\n",
       "      <td>1997-10-31 00:00</td>\n",
       "      <td>S</td>\n",
       "      <td>N</td>\n",
       "      <td>F</td>\n",
       "      <td>CAERPHILLY</td>\n",
       "      <td>CAERPHILLY</td>\n",
       "      <td>CAERPHILLY</td>\n",
       "      <td>A</td>\n",
       "      <td>A</td>\n",
       "      <td>3</td>\n",
       "      <td>13</td>\n",
       "      <td>0</td>\n",
       "      <td>0</td>\n",
       "      <td>0</td>\n",
       "      <td>0</td>\n",
       "      <td>0.27699</td>\n",
       "    </tr>\n",
       "    <tr>\n",
       "      <th>4</th>\n",
       "      <td>{E2387F76-24EC-4A7E-8A27-220E500F0DC2}</td>\n",
       "      <td>87000</td>\n",
       "      <td>1998-02-23 00:00</td>\n",
       "      <td>S</td>\n",
       "      <td>N</td>\n",
       "      <td>F</td>\n",
       "      <td>BEXLEYHEATH</td>\n",
       "      <td>BEXLEY</td>\n",
       "      <td>GREATER LONDON</td>\n",
       "      <td>A</td>\n",
       "      <td>A</td>\n",
       "      <td>3</td>\n",
       "      <td>46</td>\n",
       "      <td>0</td>\n",
       "      <td>0</td>\n",
       "      <td>0</td>\n",
       "      <td>1</td>\n",
       "      <td>0.27699</td>\n",
       "    </tr>\n",
       "  </tbody>\n",
       "</table>\n",
       "</div>"
      ],
      "text/plain": [
       "            Transaction unique identifier   Price  Date of Transfer  \\\n",
       "0  {6146E264-E0D9-4C53-ACC8-48DB3954F80B}   95200  2007-11-23 00:00   \n",
       "1  {26EBD75A-D90F-411C-85E5-4D56F0F66484}  199950  2013-06-28 00:00   \n",
       "2  {E700C723-9426-4924-8D3F-1730EC3B2BCC}  132000  2001-06-26 00:00   \n",
       "3  {677E0E46-8E8F-4560-AD93-07F72D5AE6D5}   60000  1997-10-31 00:00   \n",
       "4  {E2387F76-24EC-4A7E-8A27-220E500F0DC2}   87000  1998-02-23 00:00   \n",
       "\n",
       "  Property Type Old/New Duration    Town/City           District  \\\n",
       "0             F       Y        L      SWINDON            SWINDON   \n",
       "1             S       Y        F      BINGLEY           BRADFORD   \n",
       "2             S       N        F     BRIGHTON  BRIGHTON AND HOVE   \n",
       "3             S       N        F   CAERPHILLY         CAERPHILLY   \n",
       "4             S       N        F  BEXLEYHEATH             BEXLEY   \n",
       "\n",
       "              County PPDCategory Type Record Status - monthly file only  \\\n",
       "0            SWINDON                A                                 A   \n",
       "1     WEST YORKSHIRE                A                                 A   \n",
       "2  BRIGHTON AND HOVE                A                                 A   \n",
       "3         CAERPHILLY                A                                 A   \n",
       "4     GREATER LONDON                A                                 A   \n",
       "\n",
       "   Property_Type_Encoded  County_Encoded  Old_New_Encoded  Duration_Encoded  \\\n",
       "0                      1             104                1                 1   \n",
       "1                      3             117                1                 0   \n",
       "2                      3              11                0                 0   \n",
       "3                      3              13                0                 0   \n",
       "4                      3              46                0                 0   \n",
       "\n",
       "   Type_Age_Interaction  County_Price_Tier  Type_Rarity  \n",
       "0                     1                  0      0.18128  \n",
       "1                     3                  0      0.27699  \n",
       "2                     0                  0      0.27699  \n",
       "3                     0                  0      0.27699  \n",
       "4                     0                  1      0.27699  "
      ]
     },
     "execution_count": 3,
     "metadata": {},
     "output_type": "execute_result"
    }
   ],
   "source": [
    "df.head()"
   ]
  },
  {
   "cell_type": "code",
   "execution_count": 4,
   "id": "d4af3b20",
   "metadata": {},
   "outputs": [
    {
     "name": "stdout",
     "output_type": "stream",
     "text": [
      "Step 1: Setting up features and target...\n",
      "Features shape: (17553, 7)\n",
      "Target shape: (17553,)\n"
     ]
    }
   ],
   "source": [
    "# Step 1: Define features and target\n",
    "print(\"Step 1: Setting up features and target...\")\n",
    "\n",
    "# Features we'll use for prediction\n",
    "features = [\n",
    "    'Property_Type_Encoded', 'County_Encoded', 'Old_New_Encoded',\n",
    "    'Duration_Encoded', 'Type_Age_Interaction', 'County_Price_Tier',\n",
    "    'Type_Rarity'\n",
    "]\n",
    "\n",
    "# What we're trying to predict\n",
    "target = 'Price'\n",
    "\n",
    "X = df[features]\n",
    "y = df[target]\n",
    "\n",
    "print(f\"Features shape: {X.shape}\")\n",
    "print(f\"Target shape: {y.shape}\")"
   ]
  },
  {
   "cell_type": "code",
   "execution_count": 8,
   "id": "ee459dd3",
   "metadata": {},
   "outputs": [
    {
     "name": "stdout",
     "output_type": "stream",
     "text": [
      "Step 2: Splitting data...\n",
      "Training set: 14042 properties\n",
      "Test set: 3511 properties\n",
      "Split ratio: 80/20\n"
     ]
    }
   ],
   "source": [
    "# Step 2: Split data into training and testing sets\n",
    "print(\"Step 2: Splitting data...\")\n",
    "\n",
    "X_train, X_test, y_train, y_test = train_test_split(\n",
    "    X, y, test_size=0.2, random_state=42\n",
    ")\n",
    "\n",
    "print(f\"Training set: {len(X_train)} properties\")\n",
    "print(f\"Test set: {len(X_test)} properties\")\n",
    "print(f\"Split ratio: 80/20\")"
   ]
  },
  {
   "cell_type": "code",
   "execution_count": 9,
   "id": "d0950ccb",
   "metadata": {},
   "outputs": [
    {
     "name": "stdout",
     "output_type": "stream",
     "text": [
      "Training Linear Regression...\n",
      "Linear Regression Results:\n",
      "  Train R²: 0.174\n",
      "  Test R²: 0.177\n",
      "  Test MAE: £81,959\n"
     ]
    }
   ],
   "source": [
    "print(\"Training Linear Regression...\")\n",
    "\n",
    "# Create and train the model\n",
    "lr_model = LinearRegression()\n",
    "lr_model.fit(X_train, y_train)\n",
    "\n",
    "# Make predictions\n",
    "lr_train_pred = lr_model.predict(X_train)\n",
    "lr_test_pred = lr_model.predict(X_test)\n",
    "\n",
    "# Calculate scores\n",
    "lr_train_r2 = r2_score(y_train, lr_train_pred)\n",
    "lr_test_r2 = r2_score(y_test, lr_test_pred)\n",
    "lr_test_mae = mean_absolute_error(y_test, lr_test_pred)\n",
    "\n",
    "print(f\"Linear Regression Results:\")\n",
    "print(f\"  Train R²: {lr_train_r2:.3f}\")\n",
    "print(f\"  Test R²: {lr_test_r2:.3f}\")\n",
    "print(f\"  Test MAE: £{lr_test_mae:,.0f}\")"
   ]
  },
  {
   "cell_type": "code",
   "execution_count": 10,
   "id": "43fa0096",
   "metadata": {},
   "outputs": [
    {
     "name": "stdout",
     "output_type": "stream",
     "text": [
      "Training Decision Tree...\n",
      "Decision Tree Results:\n",
      "  Train R²: 0.259\n",
      "  Test R²: 0.213\n",
      "  Test MAE: £79,635\n"
     ]
    }
   ],
   "source": [
    "print(\"Training Decision Tree...\")\n",
    "\n",
    "# Create and train the model\n",
    "dt_model = DecisionTreeRegressor(max_depth=10, random_state=42)\n",
    "dt_model.fit(X_train, y_train)\n",
    "\n",
    "# Make predictions\n",
    "dt_train_pred = dt_model.predict(X_train)\n",
    "dt_test_pred = dt_model.predict(X_test)\n",
    "\n",
    "# Calculate scores\n",
    "dt_train_r2 = r2_score(y_train, dt_train_pred)\n",
    "dt_test_r2 = r2_score(y_test, dt_test_pred)\n",
    "dt_test_mae = mean_absolute_error(y_test, dt_test_pred)\n",
    "\n",
    "print(f\"Decision Tree Results:\")\n",
    "print(f\"  Train R²: {dt_train_r2:.3f}\")\n",
    "print(f\"  Test R²: {dt_test_r2:.3f}\")\n",
    "print(f\"  Test MAE: £{dt_test_mae:,.0f}\")"
   ]
  },
  {
   "cell_type": "code",
   "execution_count": 11,
   "id": "24361ffa",
   "metadata": {},
   "outputs": [
    {
     "name": "stdout",
     "output_type": "stream",
     "text": [
      "Training K-Nearest Neighbors...\n",
      "K-Nearest Neighbors Results:\n",
      "  Train R²: 0.202\n",
      "  Test R²: 0.164\n",
      "  Test MAE: £82,559\n"
     ]
    }
   ],
   "source": [
    "print(\"Training K-Nearest Neighbors...\")\n",
    "\n",
    "# Create and train the model\n",
    "knn_model = KNeighborsRegressor(n_neighbors=10)\n",
    "knn_model.fit(X_train, y_train)\n",
    "\n",
    "# Make predictions\n",
    "knn_train_pred = knn_model.predict(X_train)\n",
    "knn_test_pred = knn_model.predict(X_test)\n",
    "\n",
    "# Calculate scores\n",
    "knn_train_r2 = r2_score(y_train, knn_train_pred)\n",
    "knn_test_r2 = r2_score(y_test, knn_test_pred)\n",
    "knn_test_mae = mean_absolute_error(y_test, knn_test_pred)\n",
    "\n",
    "print(f\"K-Nearest Neighbors Results:\")\n",
    "print(f\"  Train R²: {knn_train_r2:.3f}\")\n",
    "print(f\"  Test R²: {knn_test_r2:.3f}\")\n",
    "print(f\"  Test MAE: £{knn_test_mae:,.0f}\")"
   ]
  },
  {
   "cell_type": "code",
   "execution_count": 12,
   "id": "394da0fc",
   "metadata": {},
   "outputs": [
    {
     "name": "stdout",
     "output_type": "stream",
     "text": [
      "Training Random Forest...\n",
      "Random Forest Results:\n",
      "  Train R²: 0.271\n",
      "  Test R²: 0.224\n",
      "  Test MAE: £78,747\n"
     ]
    }
   ],
   "source": [
    "print(\"Training Random Forest...\")\n",
    "\n",
    "# Create and train the model\n",
    "rf_model = RandomForestRegressor(\n",
    "    n_estimators=100,\n",
    "    max_depth=10,\n",
    "    random_state=42\n",
    ")\n",
    "rf_model.fit(X_train, y_train)\n",
    "\n",
    "# Make predictions\n",
    "rf_train_pred = rf_model.predict(X_train)\n",
    "rf_test_pred = rf_model.predict(X_test)\n",
    "\n",
    "# Calculate scores\n",
    "rf_train_r2 = r2_score(y_train, rf_train_pred)\n",
    "rf_test_r2 = r2_score(y_test, rf_test_pred)\n",
    "rf_test_mae = mean_absolute_error(y_test, rf_test_pred)\n",
    "\n",
    "print(f\"Random Forest Results:\")\n",
    "print(f\"  Train R²: {rf_train_r2:.3f}\")\n",
    "print(f\"  Test R²: {rf_test_r2:.3f}\")\n",
    "print(f\"  Test MAE: £{rf_test_mae:,.0f}\")"
   ]
  },
  {
   "cell_type": "code",
   "execution_count": 13,
   "id": "f94ae5c5",
   "metadata": {},
   "outputs": [
    {
     "name": "stdout",
     "output_type": "stream",
     "text": [
      "Tuning Random Forest parameters...\n",
      "This will take a few minutes...\n",
      "Testing 6 hyperparameters with 3 values each\n",
      "Total combinations to test: 729 = 729 combinations\n"
     ]
    }
   ],
   "source": [
    "print(\"Tuning Random Forest parameters...\")\n",
    "print(\"This will take a few minutes...\")\n",
    "\n",
    "# Define parameters to test\n",
    "param_grid = {\n",
    "    'n_estimators': [50, 100, 150],        # Number of trees\n",
    "    'max_depth': [5, 10, 15],              # How deep trees can grow\n",
    "    'min_samples_split': [2, 5, 10],       # Min samples to split a node\n",
    "    'min_samples_leaf': [1, 2, 4],         # Min samples in leaf node\n",
    "    'max_features': ['sqrt', 'log2', None], # Features to consider when splitting\n",
    "    'bootstrap': [True, False]              # Whether to use bootstrap samples\n",
    "}\n",
    "\n",
    "# Note: This gives us 6 hyperparameters with 3 values each (for distinction criteria)\n",
    "print(f\"Testing {len(param_grid)} hyperparameters with 3 values each\")\n",
    "print(f\"Total combinations to test: {3**6} = 729 combinations\")"
   ]
  }
 ],
 "metadata": {
  "kernelspec": {
   "display_name": "Python 3",
   "language": "python",
   "name": "python3"
  },
  "language_info": {
   "codemirror_mode": {
    "name": "ipython",
    "version": 3
   },
   "file_extension": ".py",
   "mimetype": "text/x-python",
   "name": "python",
   "nbconvert_exporter": "python",
   "pygments_lexer": "ipython3",
   "version": "3.12.11"
  }
 },
 "nbformat": 4,
 "nbformat_minor": 5
}

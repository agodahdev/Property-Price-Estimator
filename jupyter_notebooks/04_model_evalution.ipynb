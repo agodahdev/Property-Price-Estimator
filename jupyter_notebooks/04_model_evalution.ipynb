{
 "cells": [
  {
   "cell_type": "markdown",
   "id": "067d0163",
   "metadata": {},
   "source": [
    "# Model Evaluation Notebook\n",
    "\n",
    "## Objectives\n",
    "- Load the trained model\n",
    "- Evaluate model performance on test data\n",
    "- Create visualizations of predictions\n",
    "- Determine if model meets business requirements\n",
    "\n",
    "## Inputs\n",
    "- Trained model from outputs/models/v1/price_prediction_model.pkl\n",
    "- Test data from prepared dataset\n",
    "\n",
    "## Outputs\n",
    "- Performance metrics (R², MAE, RMSE)\n",
    "- Actual vs Predicted plots\n",
    "- Business case evaluation"
   ]
  },
  {
   "cell_type": "code",
   "execution_count": 1,
   "id": "66886c53",
   "metadata": {},
   "outputs": [],
   "source": [
    "import pandas as pd\n",
    "import numpy as np\n",
    "import matplotlib.pyplot as plt\n",
    "import seaborn as sns\n",
    "import pickle\n",
    "\n",
    "from sklearn.model_selection import train_test_split\n",
    "from sklearn.metrics import r2_score, mean_absolute_error, mean_squared_error\n",
    "\n",
    "# Set style\n",
    "sns.set_style('whitegrid')\n",
    "plt.rcParams['figure.figsize'] = (10, 6)"
   ]
  },
  {
   "cell_type": "code",
   "execution_count": 2,
   "id": "cfb3b457",
   "metadata": {},
   "outputs": [
    {
     "name": "stdout",
     "output_type": "stream",
     "text": [
      "Loading saved model...\n",
      "Model loaded successfully\n",
      "Features used: ['Property_Type_Encoded', 'County_Encoded', 'Old_New_Encoded', 'Duration_Encoded', 'Type_Age_Interaction', 'County_Price_Tier', 'Type_Rarity']\n"
     ]
    }
   ],
   "source": [
    "# Load the saved model\n",
    "print(\"Loading saved model...\")\n",
    "with open('../outputs/models/v1/price_prediction_model.pkl', 'rb') as file:\n",
    "    model = pickle.load(file)\n",
    "\n",
    "# Load the features list\n",
    "with open('../outputs/models/v1/features.pkl', 'rb') as file:\n",
    "    features = pickle.load(file)\n",
    "\n",
    "print(\"Model loaded successfully\")\n",
    "print(f\"Features used: {features}\")"
   ]
  }
 ],
 "metadata": {
  "kernelspec": {
   "display_name": "Python 3",
   "language": "python",
   "name": "python3"
  },
  "language_info": {
   "codemirror_mode": {
    "name": "ipython",
    "version": 3
   },
   "file_extension": ".py",
   "mimetype": "text/x-python",
   "name": "python",
   "nbconvert_exporter": "python",
   "pygments_lexer": "ipython3",
   "version": "3.12.11"
  }
 },
 "nbformat": 4,
 "nbformat_minor": 5
}
